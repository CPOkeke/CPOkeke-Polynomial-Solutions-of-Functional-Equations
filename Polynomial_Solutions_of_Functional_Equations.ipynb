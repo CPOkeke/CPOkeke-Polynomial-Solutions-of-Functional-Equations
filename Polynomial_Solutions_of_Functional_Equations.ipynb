{
 "cells": [
  {
   "cell_type": "markdown",
   "metadata": {},
   "source": [
    "*The Python code described below runs only on the Python Sagemath environment. It is important to note that the line $\\textbf{from sage.all import *}$ will work only on a Python with the Sagemath installed.*"
   ]
  },
  {
   "cell_type": "code",
   "execution_count": 1,
   "metadata": {},
   "outputs": [],
   "source": [
    "import sys\n",
    "from sage.all import *\n",
    "from sympy import Function, Symbol\n",
    "import numpy as np\n",
    "from scipy.special import comb\n",
    "import time"
   ]
  },
  {
   "cell_type": "code",
   "execution_count": 2,
   "metadata": {},
   "outputs": [],
   "source": [
    "x=Symbol('x')\n",
    "y=Symbol('y')\n",
    "f= Function('f')\n",
    "F=Function('F')\n"
   ]
  },
  {
   "cell_type": "code",
   "execution_count": 3,
   "metadata": {},
   "outputs": [],
   "source": [
    "def seperator2(Equation):\n",
    "    \"\"\"\n",
    "    This equation  does not belong to class (0.1): Ensure to put the functions in terms of F or f, where f is multiplied by a variable x or y\n",
    "    \"\"\"\n",
    "    if len(Equation.args)==0:\n",
    "        print(\"This equation  does not belong to class (0.1): Ensure to put the functions in terms of F or f, where f is multiplied by a variable x or y\")\n",
    "        return \"\"\n",
    "    u=0\n",
    "    try:\n",
    "        output=set()\n",
    "        if len((Equation.expand()).operands())==1:\n",
    "            output.add(Equation)\n",
    "        elif len((Equation.expand()).operands()) != 1:\n",
    "            for i in (Equation.expand()).operands():\n",
    "                if len(i.operands())==0:\n",
    "                    output.add(Equation)\n",
    "        \n",
    "    except:\n",
    "        output=set()\n",
    "        if len((Equation.expand()).args)==1:\n",
    "            output.add(Equation)\n",
    "        elif len((Equation.expand()).args) != 1:\n",
    "            for i in (Equation.expand()).args:\n",
    "                if len(i.args)==0:\n",
    "                    output.add(Equation)\n",
    "        \n",
    "    return list(output)"
   ]
  },
  {
   "cell_type": "code",
   "execution_count": 4,
   "metadata": {},
   "outputs": [],
   "source": [
    "def seperator22(Equation):\n",
    "    u=0\n",
    "    try:\n",
    "        for i in (Equation.expand()).operands():\n",
    "            if i.coefficient(y)==i.coefficient(-x) !=0 or i.coefficient(-y)==i.coefficient(x) !=0:\n",
    "                #print(i.coefficient(y))\n",
    "                u= u+1\n",
    "        if u != 0:\n",
    "            terms=(Equation.subs({y:x+y})).expand()\n",
    "            termss= list(terms.operands())\n",
    "            n=len(termss)\n",
    "            output=[]\n",
    "        else:\n",
    "            terms=Equation.expand()\n",
    "            termss= list(terms.operands())\n",
    "            n=len(termss)\n",
    "            output=[] \n",
    "    except:\n",
    "        for i in (Equation.expand()).args:\n",
    "            if i.coeff(y)==i.coeff(-x) !=0 or i.coeff(-y)==i.coeff(x)  !=0:\n",
    "                #print(i.coeff(y))\n",
    "                u= u+1\n",
    "        if u != 0:\n",
    "            terms=(Equation.subs({y:x+y})).expand()\n",
    "            termss= list(terms.args)\n",
    "            n=len(termss)\n",
    "            output=[]\n",
    "        else:\n",
    "            terms=Equation.expand()\n",
    "            termss= list(terms.args)\n",
    "            n=len(termss)\n",
    "            output=[]\n",
    "    if n==1:\n",
    "        output.append(terms)\n",
    "    else:\n",
    "        for i in range(n):\n",
    "            output.append(termss[i].expand())\n",
    "    #print(u)\n",
    "    return output"
   ]
  },
  {
   "cell_type": "code",
   "execution_count": 5,
   "metadata": {},
   "outputs": [],
   "source": [
    "def seperator12(Equation):\n",
    "    if len(seperator2(Equation))!=0:\n",
    "        return seperator2(Equation)\n",
    "    else:\n",
    "        return seperator22(Equation)\n",
    "        "
   ]
  },
  {
   "cell_type": "code",
   "execution_count": 6,
   "metadata": {},
   "outputs": [],
   "source": [
    "def Left_right3(split_form):\n",
    "    L=0\n",
    "    R=0\n",
    "    ll=[]\n",
    "    try:\n",
    "        for i in split_form:\n",
    "            if f(x) in list(i.args) and len(list(i.args))>1:\n",
    "                L=L-i\n",
    "                ll.append(i)\n",
    "            elif F(x) in list(i.args) and len(list(i.args))>1:\n",
    "                L=L-i\n",
    "                ll.append(i)\n",
    "        for i in split_form:\n",
    "            if x in list(i.args) and len(list(i.args))==1:\n",
    "                L=L-i\n",
    "                ll.append(i)\n",
    "        for i in split_form:\n",
    "            if len(list(i.args)) > 1:\n",
    "                for j in i.args:\n",
    "                    if len(j.args) != 0:\n",
    "                        for k in j.args:\n",
    "                            if x in k.args and k.coeff(y)==0:\n",
    "                                L=L-i\n",
    "                                ll.append(i)\n",
    "        for i in split_form:\n",
    "            if len(list(i.args))==1:\n",
    "                for j in i.args:\n",
    "                    if x in list(j.args) and j.coeff(y)==0:\n",
    "                        L=L-i\n",
    "                        ll.append(i)\n",
    "                                \n",
    "        \n",
    "        for i in split_form:\n",
    "            if i not in ll:\n",
    "                R=R+i\n",
    "                        \n",
    "                \n",
    "        \n",
    "    except:\n",
    "        for i in split_form:\n",
    "            if f(x) in list(i.operands())and len(list(i.operands()))>1:\n",
    "                L=L-i\n",
    "                ll.append(i)\n",
    "            elif F(x) in list(i.operands())and len(list(i.operands()))>1:\n",
    "                L=L-i\n",
    "                ll.append(i)\n",
    "        for i in split_form:\n",
    "            if x in list(i.operands()) and len(list(i.operands()))==1:\n",
    "                L=L-i\n",
    "                ll.append(i)\n",
    "        for i in split_form:\n",
    "            if len(list(i.operands())) > 1:\n",
    "                for j in i.operands():\n",
    "                    if len(j.operands()) != 0:\n",
    "                        for k in j.operands():\n",
    "                            if x in k.operands() and k.coefficient(y)==0:\n",
    "                                L=L-i\n",
    "                                ll.append(i) \n",
    "        for i in split_form:\n",
    "            if len(list(i.operands()))==1:\n",
    "                for j in i.operands():\n",
    "                    if x in list(j.operands()) and j.coefficient(y)==0:\n",
    "                        L=L-i\n",
    "                        ll.append(i)\n",
    "        \n",
    "        for i in split_form:\n",
    "            if i not in ll:\n",
    "                R=R+i\n",
    "                                \n",
    "                                \n",
    "    #print(ll)                           \n",
    "    return L,R"
   ]
  },
  {
   "cell_type": "code",
   "execution_count": 7,
   "metadata": {},
   "outputs": [],
   "source": [
    "def f_or_F_LHS(L):\n",
    "    a=set()\n",
    "    b=set()\n",
    "    #print(L)\n",
    "    if L==0:\n",
    "        a.add(0)\n",
    "    elif L==F(x):\n",
    "        a.add('F')\n",
    "    elif L==f(x):\n",
    "        a.add('f')\n",
    "    elif len(L.args)==1 and L.has(F):\n",
    "        a.add('F')\n",
    "    elif len(L.args)==1 and L.has(f):\n",
    "        a.add('f')\n",
    "    elif len(L.args) > 1:\n",
    "        ds=0\n",
    "        for i in L.args:\n",
    "            if len(i.args)==0 and i.coeff(x) == 0 and i.coeff(y)==0 and L.has(F):\n",
    "                a.add('F')\n",
    "            elif len(i.args)==0 and i.coeff(x) == 0 and i.coeff(y)==0 and L.has(f):\n",
    "                a.add('f')\n",
    "            elif (len(i.args)==0 and L.has(f)) and (i.coeff(x) != 0 or i.coeff(y) !=0) :\n",
    "                a.add('f')\n",
    "            elif (len(i.args)==0 and L.has(F)) and (i.coeff(x) != 0 or i.coeff(y) !=0):\n",
    "                a.add('F')\n",
    "        for i in L.args:\n",
    "            if len(i.args) !=0 :\n",
    "                ds = ds + 1\n",
    "        if ds !=0 :\n",
    "            for i in L.args:\n",
    "                for j in i.args:\n",
    "                    if len(j.args) == 0 and j.coeff(x) != 0 and i.has(F):\n",
    "                        a.add('F')\n",
    "                    elif len(j.args) == 0 and j.coeff(y) != 0 and i.has(F):\n",
    "                        a.add('F')\n",
    "                    elif len(j.args) == 0 and j.coeff(x) != 0 and i.has(f):\n",
    "                        a.add('f')\n",
    "                    elif len(j.args) == 0 and j.coeff(y) != 0 and i.has(f):\n",
    "                        a.add('f')\n",
    "                    elif len(j.args)==0 and j.coeff(x) == 0 and j.coeff(y)==0 and i.has(F):\n",
    "                        a.add('F')\n",
    "                    elif len(j.args)==0 and j.coeff(x) == 0 and j.coeff(y)==0 and i.has(f):\n",
    "                        a.add('f')\n",
    "        \n",
    "            \n",
    "\n",
    "    else:\n",
    "        try:\n",
    "            for i in list(L.args):\n",
    "                if i.has(f) and y in list(i.args) :\n",
    "                    a.add('f')\n",
    "                elif i.has(f) and x in list(i.args) :\n",
    "                    a.add('f')\n",
    "                elif i.has(F) and y in list(i.args) :\n",
    "                    a.add('F')\n",
    "                elif i.has(F) and x in list(i.args) :\n",
    "                    a.add('F')\n",
    "                elif F(x) in list(i.args):\n",
    "                    a.add('F')\n",
    "                elif f(x) in list(i.args):\n",
    "                    a.add('f')\n",
    "                elif x in list(i.args) and len(list(i.args))==1 and i.has(F):\n",
    "                    a.add('F')\n",
    "                elif x in list(i.args) and len(list(i.args))==1 and i.has(f):\n",
    "                    a.add('f')\n",
    "                elif len(list(i.args))==1 :\n",
    "                    for k in i.args:\n",
    "                        if x in list(i.args) and i.has(F):\n",
    "                            a.add('F')\n",
    "                        elif x in list(i.args) and i.has(f):\n",
    "                            a.add('f')\n",
    "                elif len(list(i.args)) > 1 :\n",
    "                    for j in i.args:\n",
    "                        if len(j.args) != 0:\n",
    "                            for k in j.args:\n",
    "                                if x in list(k.args) and j.has(F):\n",
    "                                    a.add('F')\n",
    "                                elif x in list(k.args) and j.has(f):\n",
    "                                    a.add('f')\n",
    "                                elif k.coeff(x) !=0 and j.has(F):\n",
    "                                    a.add('F')\n",
    "                                elif k.coeff(x) !=0 and j.has(f):\n",
    "                                    a.add('f')\n",
    "                        \n",
    "                        \n",
    "        except:\n",
    "            for i in list(L.operands()):\n",
    "                if i.has(f) and y in list(i.operands()) :\n",
    "                    a.add('f')\n",
    "                elif i.has(f) and x in list(i.operands()) :\n",
    "                    a.add('f')\n",
    "                elif i.has(F) and y in list(i.operands())  :\n",
    "                    a.add('F')\n",
    "                elif i.has(F) and x in list(i.operands())  :\n",
    "                    a.add('F')\n",
    "                elif F(x) in list(i.operands()) :\n",
    "                    a.add('F')\n",
    "                elif f(x) in list(i.operands()) :\n",
    "                    a.add('f')\n",
    "                elif x in list(i.operands()) and len(list(i.operands()))==1 and i.has(F):\n",
    "                    a.add('F')\n",
    "                elif x in list(i.operands()) and len(list(i.operands()))==1 and i.has(f):\n",
    "                    a.add('f')\n",
    "                elif len(list(i.operands()))==1 :\n",
    "                    for k in i.operands():\n",
    "                        if x in list(i.operands()) and i.has(F):\n",
    "                            a.add('F')\n",
    "                        elif x in list(i.operands()) and i.has(f):\n",
    "                            a.add('f')\n",
    "                elif len(list(i.operands())) > 1 :\n",
    "                    for j in i.operands():\n",
    "                        if len(j.operands()) != 0:\n",
    "                            for k in j.operands():\n",
    "                                if x in list(k.operands()) and j.has(F):\n",
    "                                    a.add('F')\n",
    "                                elif x in list(k.operands()) and j.has(f):\n",
    "                                    a.add('f')\n",
    "                                elif k.coefficient(x) !=0 and j.has(F):\n",
    "                                    a.add('F')\n",
    "                                elif k.coefficient(x) !=0 and j.has(f):\n",
    "                                    a.add('f')\n",
    "    if len(a)==1:\n",
    "        b.add(list(a)[0])\n",
    "    elif len(a)> 1 and 'f' in a and 'F' in a:\n",
    "        b.add('f')\n",
    "    #print(a)\n",
    "    return b"
   ]
  },
  {
   "cell_type": "code",
   "execution_count": 8,
   "metadata": {},
   "outputs": [],
   "source": [
    "def cardinality(R):\n",
    "    uy=[]\n",
    "    ux=[]\n",
    "    level_1_y=set()\n",
    "    level_1_x=set()\n",
    "    level_0=set()\n",
    "    if R==0:\n",
    "        return 0\n",
    "    elif len(R.args)==1:\n",
    "        for i in R.args:\n",
    "            level_0.add((i.coeff(x), i.coeff(y)))\n",
    "            \n",
    "        \n",
    "    else:\n",
    "        try:\n",
    "            for i in R.args:\n",
    "                if y in list(i.args):\n",
    "                    for j in list(i.args):\n",
    "                        if j != y:\n",
    "                            uy.append(j)\n",
    "                elif x in list(i.args):\n",
    "                    for j in list(i.args):\n",
    "                        if j != x:\n",
    "                            ux.append(j)\n",
    "                elif y not in list(i.args) and x not in list(i.args) and len(list(i.args))==1:\n",
    "                      for j in i.args:\n",
    "                            level_0.add((j.coeff(x), j.coeff(y)))\n",
    "                elif y not in list(i.args) and x not in list(i.args) and len(list(i.args))>1:\n",
    "                     for j in i.args:\n",
    "                            if len(list(j.args))!=0:\n",
    "                                 for k in j.args:\n",
    "                                        level_0.add((k.coeff(x), k.coeff(y)))\n",
    "            for i in R.args:\n",
    "                if len(list(i.args))==1:\n",
    "                    for j in list(i.args):\n",
    "                        level_0.add((j.coeff(x), j.coeff(y)))\n",
    "            for j in uy:\n",
    "                if len(list(j.args))!=0:\n",
    "                    for i in j.args:\n",
    "                        level_1_y.add((i.coeff(x), i.coeff(y)))\n",
    "            for j in ux:\n",
    "                if len(list(j.args))!=0:\n",
    "                    for i in j.args:\n",
    "                        level_1_x.add((i.coeff(x), i.coeff(y)))\n",
    "        except:\n",
    "            for i in R.operands():\n",
    "                if y in list(i.operands()):\n",
    "                    for j in list(i.operands()):\n",
    "                        if j != y:\n",
    "                            uy.append(j)\n",
    "                elif x in list(i.operands()):\n",
    "                    for j in list(i.operands()):\n",
    "                        if j != x:\n",
    "                            ux.append(j)\n",
    "                elif y not in list(i.operands()) and x not in list(i.operands()) and len(list(i.operands()))==1:\n",
    "                      for j in i.args:\n",
    "                            level_0.add((j.coefficient(x), j.coefficient(y)))\n",
    "                elif y not in list(i.operands()) and x not in list(i.operands()) and len(list(i.operands()))>1:\n",
    "                     for j in i.operands():\n",
    "                            if len(list(j.operands()))!=0:\n",
    "                                 for k in j.operands():\n",
    "                                        level_0.add((k.coefficient(x), k.coefficient(y)))\n",
    "            for i in R.operands():\n",
    "                if len(list(i.operands()))==1:\n",
    "                    for j in list(i.operands()):\n",
    "                        level_0.add((j.coefficient(x), j.coefficient(y)))\n",
    "                \n",
    "            for j in uy:\n",
    "                if len(list(j.operands()))!=0:\n",
    "                    for i in j.operands():\n",
    "                        level_1_y.add((i.coefficient(x),i.coefficient(y)))\n",
    "            for j in ux:\n",
    "                if len(list(j.operands()))!=0:\n",
    "                    for i in j.operands():\n",
    "                        level_1_x.add((i.coefficient(x),i.coefficient(y)))\n",
    "    #print(level_0.union(level_1_y,level_1_x))\n",
    "    return len(level_0.union(level_1_y,level_1_x)) + len(level_1_y.union(level_1_x)) - 1"
   ]
  },
  {
   "cell_type": "code",
   "execution_count": 9,
   "metadata": {},
   "outputs": [],
   "source": [
    "def degree_of_f_or_F(L_R):\n",
    "    k = 0\n",
    "    if 0 in  f_or_F_LHS(L_R[0]):\n",
    "        print('Equation not of the form of Sablik Lemma')\n",
    "        return \"\"\n",
    "    elif 'f' in f_or_F_LHS(L_R[0]):\n",
    "        k = k + cardinality(L_R[1])\n",
    "        print('By Sablik Lemma f has degree at most', k)\n",
    "    elif 'F' in f_or_F_LHS(L_R[0]):\n",
    "        k = k + cardinality(L_R[1]) - 1\n",
    "        print('By Sablik Lemma F has degree at most', cardinality(L_R[1]))\n",
    "    if k >=0 :\n",
    "        return  k\n",
    "    elif k < 0:\n",
    "        return  0"
   ]
  },
  {
   "cell_type": "code",
   "execution_count": 10,
   "metadata": {},
   "outputs": [],
   "source": [
    "def Sablik_Lemma(Equation):\n",
    "    seperate=seperator12(Equation)\n",
    "    L_R_HS= Left_right3(seperate)\n",
    "    de_fF=f_or_F_LHS(L_R_HS[0])\n",
    "    cardn= cardinality(L_R_HS[1])\n",
    "    outp=degree_of_f_or_F(L_R_HS)\n",
    "    return outp"
   ]
  },
  {
   "cell_type": "code",
   "execution_count": 11,
   "metadata": {},
   "outputs": [],
   "source": [
    "def seperator_2_1(Equation):\n",
    "    try:\n",
    "        terms=Equation.expand()\n",
    "        termss= list(terms.operands())\n",
    "        n=len(termss)\n",
    "        output=[]\n",
    "    except:\n",
    "        terms=Equation.expand()\n",
    "        termss= list(terms.args)\n",
    "        n=len(termss)\n",
    "        output=[]\n",
    "    if n==1:\n",
    "        output.append(terms)\n",
    "    else:\n",
    "        for i in range(n):\n",
    "            output.append(termss[i].expand())\n",
    "    return output"
   ]
  },
  {
   "cell_type": "code",
   "execution_count": 12,
   "metadata": {},
   "outputs": [],
   "source": [
    "def seperator_21(Equation):\n",
    "    if len(seperator2(Equation))!=0:\n",
    "        return seperator2(Equation)\n",
    "    else:\n",
    "        return seperator_2_1(Equation)"
   ]
  },
  {
   "cell_type": "code",
   "execution_count": 13,
   "metadata": {},
   "outputs": [],
   "source": [
    "def check1(split_form1):\n",
    "    check=[]\n",
    "    for i in split_form1:\n",
    "        if i.has(F) and len(i.args)==1:\n",
    "            check.append(i)\n",
    "        elif i.has(F) and len(i.args) > 1:\n",
    "            ur=0\n",
    "            for j in i.args:\n",
    "                if len(j.args)==0 and x not in i.args and y not in i.args:\n",
    "                    ur = ur + 1\n",
    "            if ur ==1 :\n",
    "                check.append(i)\n",
    "        elif i.has(f) and len(i.args) > 1:\n",
    "            if x in i.args and y not in i.args:\n",
    "                check.append(i)\n",
    "            elif y in i.args and x not in i.args:\n",
    "                check.append(i)\n",
    "    if len(check) == len(split_form1):\n",
    "        return split_form1\n",
    "    else:\n",
    "        print(\"This equation  does not belong to class (0.1): Ensure to put the functions in terms of F or f, where f is multiplied by a variable x or y\")\n",
    "        \n",
    "        return \"\"\n",
    "    "
   ]
  },
  {
   "cell_type": "code",
   "execution_count": 14,
   "metadata": {},
   "outputs": [],
   "source": [
    "def Left_right_2_1(split_form):\n",
    "    L=0\n",
    "    R=0\n",
    "    ll=set()\n",
    "    try:\n",
    "        for i in split_form:\n",
    "            if F(x) in list(i.args) and len(list(i.args))>1:\n",
    "                ll.add(i)\n",
    "            elif F(y) in list(i.args) and len(list(i.args))>1:\n",
    "                ll.add(i)\n",
    "        for i in split_form:\n",
    "            if x in list(i.args) and len(list(i.args))==1:\n",
    "                ll.add(i)\n",
    "            elif y in list(i.args) and len(list(i.args))==1:\n",
    "                ll.add(i)\n",
    "        for i in split_form:\n",
    "            if len(list(i.args))==1:\n",
    "                for j in i.args:\n",
    "                    if len(j.args) != 0:\n",
    "                        for k in j.args:\n",
    "                            if x in list(k.args) or y in list(k.args):\n",
    "                                ll.add(i)\n",
    "                            elif k.coeff(x) !=0 or k.coeff(y) !=0:\n",
    "                                ll.add(i)\n",
    "        for i in split_form:\n",
    "            if len(list(i.args))>1 and i.coeff(x)==0 and i.coeff(y)==0:\n",
    "                for j in i.args:\n",
    "                    if len(j.args) != 0:\n",
    "                        for k in j.args:\n",
    "                            if x in list(k.args) or y in list(k.args):\n",
    "                                ll.add(i)\n",
    "                            elif k.coeff(x) !=0 or k.coeff(y) !=0:\n",
    "                                ll.add(i)\n",
    "        \n",
    "        for i in ll:\n",
    "            L= L +i\n",
    "        for i in split_form:\n",
    "            if i not in ll:\n",
    "                R=R-i\n",
    "                        \n",
    "                \n",
    "        \n",
    "    except:\n",
    "        for i in split_form:\n",
    "            if F(x) in list(i.operands())and len(list(i.operands()))>1:\n",
    "                ll.add(i)\n",
    "            elif F(y) in list(i.operands())and len(list(i.operands()))>1:\n",
    "                ll.add(i)\n",
    "        for i in split_form:\n",
    "            if x in list(i.operands()) and len(list(i.operands()))==1:\n",
    "                ll.add(i)\n",
    "            elif y in list(i.operands()) and len(list(i.operands()))==1:\n",
    "                ll.add(i)\n",
    "        for i in split_form:\n",
    "            if len(list(i.operands()))==1:\n",
    "                for j in i.operands():\n",
    "                    if len(j.operands()) != 0: \n",
    "                        for k in j.operands():\n",
    "                            if x in list(k.operands()) or y in list(k.operands()):\n",
    "                                ll.add(i)\n",
    "                            elif k.coefficient(x) !=0 or k.coefficient(y) !=0:\n",
    "                                ll.add(i)\n",
    "        for i in split_form:\n",
    "            if len(list(i.operands()))>1 and i.coefficient(y)==0 and i.coefficient(x)==0:\n",
    "                for j in i.operands():\n",
    "                    if len(j.operands()) != 0:\n",
    "                        for k in j.operands():\n",
    "                            if x in list(k.operands()) or y in list(k.operands()):\n",
    "                                ll.add(i)\n",
    "                            elif k.coefficient(x) !=0 or k.coefficient(y) !=0:\n",
    "                                ll.add(i)\n",
    "            \n",
    "        for i in split_form:\n",
    "            if i not in ll:\n",
    "                R=R-i\n",
    "        for i in ll:\n",
    "            L= L +i                        \n",
    "                                \n",
    "    #print(ll)                           \n",
    "    return L,R"
   ]
  },
  {
   "cell_type": "code",
   "execution_count": 15,
   "metadata": {},
   "outputs": [],
   "source": [
    "def Theorem_coeff(Eq):\n",
    "    ll=[]\n",
    "    if Eq[0]==0:\n",
    "        return 0\n",
    "    else:\n",
    "        try:\n",
    "            z=0\n",
    "            left=Eq[0].args\n",
    "            for i in left:\n",
    "                if i.coeff(x) !=0 or i.coeff(y) !=0:\n",
    "                    l=[]\n",
    "                    l.append(1)\n",
    "                    l.append(i.coeff(x))\n",
    "                    l.append(i.coeff(y))\n",
    "                    ll.append(l)\n",
    "                    l=[]\n",
    "                elif len(i.args)==0:\n",
    "                    l=[]\n",
    "                    l.append(i)\n",
    "                    for j in left:\n",
    "                        if len(j.args) != 0:\n",
    "                            for k in j.args:\n",
    "                                l.append(k.coeff(x))\n",
    "                                l.append(k.coeff(y))\n",
    "                                ll.append(l)\n",
    "                                l=[]\n",
    "            for i in left:\n",
    "                if len(i.args)!=0:\n",
    "                    z= z +1\n",
    "            if z > 1:\n",
    "                for i in left:\n",
    "                    if len(i.args)==1:\n",
    "                        l=[]\n",
    "                        l.append(1)\n",
    "                        for j in i.args:\n",
    "                            l.append(j.coeff(x))\n",
    "                            l.append(j.coeff(y))\n",
    "                            ll.append(l)\n",
    "                            l=[]\n",
    "                    elif len(i.args)> 1:\n",
    "                        l=[]\n",
    "                        for j in i.args:\n",
    "                            if len(j.args) ==0:\n",
    "                                l.append(j)\n",
    "                        for j in i.args:\n",
    "                            if len(j.args) != 0:\n",
    "                                for k in j.args:\n",
    "                                    l.append(k.coeff(x))\n",
    "                                    l.append(k.coeff(y))\n",
    "                                    ll.append(l)\n",
    "                                    l=[]\n",
    "        except:\n",
    "            z=0\n",
    "            left=Eq[0].operands()\n",
    "            for i in left:\n",
    "                if i.coefficient(x) !=0 or i.coefficient(y) !=0:\n",
    "                    l=[]\n",
    "                    l.append(1)\n",
    "                    l.append(i.coefficient(x))\n",
    "                    l.append(i.coefficient(y))\n",
    "                    ll.append(l)\n",
    "                    l=[]\n",
    "\n",
    "                elif len(i.operands())==0:\n",
    "                    l=[]\n",
    "                    l.append(i)\n",
    "                    for j in left:\n",
    "                        if len(j.operands()) != 0:\n",
    "                            for k in j.operands():\n",
    "                                l.append(k.coefficient(x))\n",
    "                                l.append(k.coefficient(y))\n",
    "                                ll.append(l)\n",
    "                                l=[]\n",
    "            for i in left:\n",
    "                if len(i.operands())!=0:\n",
    "                    z= z +1\n",
    "            if z > 1:\n",
    "                for i in left:\n",
    "                    if len(i.operands())==1:\n",
    "                        l=[]\n",
    "                        l.append(1)\n",
    "                        for j in i.operands():\n",
    "                            l.append(j.coefficient(x))\n",
    "                            l.append(j.coefficient(y))\n",
    "                            ll.append(l)\n",
    "                            l=[]\n",
    "                    elif len(i.operands())> 1:\n",
    "                        l=[]\n",
    "                        for j in i.operands():\n",
    "                            if len(j.operands()) ==0:\n",
    "                                l.append(j)\n",
    "                        for j in i.operands():\n",
    "                            if len(j.operands()) != 0:\n",
    "                                for k in j.operands():\n",
    "                                    l.append(k.coefficient(x))\n",
    "                                    l.append(k.coefficient(y))\n",
    "                                    ll.append(l)\n",
    "                                    l=[]    \n",
    "    return ll\n",
    "        "
   ]
  },
  {
   "cell_type": "code",
   "execution_count": 16,
   "metadata": {},
   "outputs": [],
   "source": [
    "def Theorem_coeff_Right(Eq):\n",
    "    rr=[]\n",
    "    if Eq[1]==0:\n",
    "        return 0\n",
    "    else:\n",
    "        try:\n",
    "            right=Eq[1].args\n",
    "            #print(right)\n",
    "            z=0\n",
    "            w=0\n",
    "            t=0\n",
    "            for i in right:\n",
    "                if (i.coeff(x) !=0 and len(i.args)==0 and len(right)==2) or (i.coeff(y) !=0 and len(i.args)==0 and len(right)==2 ):\n",
    "                    z= z+1\n",
    "            if z==1:\n",
    "                for i in right:\n",
    "                    if (i.coeff(x) !=0 and len(i.args)==0) or (i.coeff(y) !=0 and len(i.args)==0 ):\n",
    "                        r=[]\n",
    "                        r.append(i.coeff(x))\n",
    "                        r.append(i.coeff(y))\n",
    "                    elif len(i.args) !=0 :\n",
    "                        for j in i.args:\n",
    "                            r.append(j.coeff(x))\n",
    "                            r.append(j.coeff(y))\n",
    "                            rr.append(r)\n",
    "                            r=[]\n",
    "            for i in right:\n",
    "                if (i.coeff(x) !=0 and len(i.args)==0 and len(right)==3) or (i.coeff(y) !=0 and len(i.args)==0 and len(right)==3 ):\n",
    "                    w= w+1\n",
    "            if w==1:\n",
    "                r=[]\n",
    "                if x in right:\n",
    "                    for i in right:\n",
    "                        if (i != x and len(i.args)==0):\n",
    "                            r.append(i)\n",
    "                            r.append(0)\n",
    "                elif y in right:\n",
    "                    for i in right:\n",
    "                        if (i != y and len(i.args)==0):\n",
    "                            r.append(0)\n",
    "                            r.append(i)\n",
    "                for i in right:\n",
    "                    if len(i.args) !=0 :\n",
    "                        for j in i.args:\n",
    "                            r.append(j.coeff(x))\n",
    "                            r.append(j.coeff(y))\n",
    "                rr.append(r)\n",
    "            for i in right:\n",
    "                if (i.coeff(x) !=0 and len(i.args) !=0 ) or (i.coeff(y) !=0 and len(i.args) !=0 ):\n",
    "                    t= t+1\n",
    "            if t> 1:\n",
    "                for i in right:\n",
    "                    if len(i.args)==2:\n",
    "                        for j in i.args:\n",
    "                            if (j.coeff(x) !=0 and len(j.args)==0) or (j.coeff(y) !=0 and len(j.args)==0 ):\n",
    "                                r=[]\n",
    "                                r.append(j.coeff(x))\n",
    "                                r.append(j.coeff(y))\n",
    "                            elif len(j.args) !=0 :\n",
    "                                for k in j.args:\n",
    "                                    r.append(k.coeff(x))\n",
    "                                    r.append(k.coeff(y))\n",
    "                                    rr.append(r)\n",
    "                                    r=[]\n",
    "                    elif len(i.args) > 2:\n",
    "                        r=[]\n",
    "                        if x in i.args:\n",
    "                            for j in i.args:\n",
    "                                if (j != x and len(j.args)==0):\n",
    "                                    r.append(j)\n",
    "                                    r.append(0)\n",
    "                        elif y in i.args:\n",
    "                            for j in i.args:\n",
    "                                if (j != y and len(j.args)==0):\n",
    "                                    r.append(0)\n",
    "                                    r.append(j)\n",
    "                        for j in i.args:\n",
    "                            if len(j.args) !=0 :\n",
    "                                for k in j.args:\n",
    "                                    r.append(k.coeff(x))\n",
    "                                    r.append(k.coeff(y))\n",
    "                        rr.append(r)\n",
    "\n",
    "\n",
    "\n",
    "\n",
    "        except:\n",
    "            right=Eq[1].operands()\n",
    "            #print(right)\n",
    "            z=0\n",
    "            w=0\n",
    "            t=0\n",
    "            for i in right:\n",
    "                if (i.coefficient(x) !=0 and len(i.operands())==0 and len(right)==2) or (i.coefficient(y) !=0 and len(i.operands())==0 and len(right)==2) :\n",
    "                    z= z+1\n",
    "            if z==1 :\n",
    "                for i in right:\n",
    "                    if (i.coefficient(x) !=0 and len(i.operands())==0) or (i.coefficient(y) !=0 and len(i.operands())==0 ) :\n",
    "                        r=[]\n",
    "                        r.append(i.coefficient(x))\n",
    "                        r.append(i.coefficient(y))\n",
    "                    elif len(i.operands()) !=0 :\n",
    "                        for j in i.operands():\n",
    "                            r.append(j.coefficient(x))\n",
    "                            r.append(j.coefficient(y))\n",
    "                            rr.append(r)\n",
    "                            r=[]   \n",
    "            for i in right:\n",
    "                if (i.coefficient(x) !=0 and len(i.operands())==0 and len(right)==3) or (i.coefficient(y) !=0 and len(i.operands())==0 and len(right)==3 ):\n",
    "                    w= w+1\n",
    "            if w==1:\n",
    "                r=[]\n",
    "                if x in right:\n",
    "                    for i in right:\n",
    "                        if (i != x and len(i.operands())==0):\n",
    "                            r.append(i)\n",
    "                            r.append(0)\n",
    "                elif y in right:\n",
    "                    for i in right:\n",
    "                        if (i != y and len(i.operands())==0):\n",
    "                            r.append(0)\n",
    "                            r.append(i)\n",
    "                for i in right:\n",
    "                    if len(i.operands()) !=0 :\n",
    "                        for j in i.operands():\n",
    "                            r.append(j.coefficient(x))\n",
    "                            r.append(j.coefficient(y))\n",
    "                rr.append(r)\n",
    "            for i in right:\n",
    "                if (i.coefficient(x) !=0 and len(i.operands()) !=0 ) or (i.coefficient(y) !=0 and len(i.operands()) !=0 ):\n",
    "                    t= t+1\n",
    "            if t> 1:\n",
    "                for i in right:\n",
    "                    if len(i.operands())==2:\n",
    "                        for j in i.operands():\n",
    "                            if (j.coefficient(x) !=0 and len(j.operands())==0) or (j.coefficient(y) !=0 and len(j.operands())==0 ):\n",
    "                                r=[]\n",
    "                                r.append(j.coefficient(x))\n",
    "                                r.append(j.coefficient(y))\n",
    "                            elif len(j.operands()) !=0 :\n",
    "                                for k in j.operands():\n",
    "                                    r.append(k.coefficient(x))\n",
    "                                    r.append(k.coefficient(y))\n",
    "                                    rr.append(r)\n",
    "                                    r=[]\n",
    "                    elif len(i.operands()) > 2:\n",
    "                        r=[]\n",
    "                        if x in i.operands():\n",
    "                            for j in i.operands():\n",
    "                                if (j != x and len(j.operands())==0):\n",
    "                                    r.append(j)\n",
    "                                    r.append(0)\n",
    "                        elif y in i.operands():\n",
    "                            for j in i.operands():\n",
    "                                if (j != y and len(j.operands())==0):\n",
    "                                    r.append(0)\n",
    "                                    r.append(j)\n",
    "                        for j in i.operands():\n",
    "                            if len(j.operands()) !=0 :\n",
    "                                for k in j.operands():\n",
    "                                    r.append(k.coefficient(x))\n",
    "                                    r.append(k.coefficient(y))\n",
    "                        rr.append(r)\n",
    "\n",
    "\n",
    "\n",
    "        #print(t)\n",
    "    return rr\n",
    "                    \n",
    "        "
   ]
  },
  {
   "cell_type": "code",
   "execution_count": 17,
   "metadata": {},
   "outputs": [],
   "source": [
    "def Theorem_1_3_Proposition_1_4_1_5_Remark_1_2_1_3(Equation,lemma):\n",
    "    sub=str.maketrans(\"0123456789\", \"₀₁₂₃₄₅₆₇₈₉\")\n",
    "    sup=str.maketrans(\"0123456789*\", \"⁰¹²³⁴⁵⁶⁷⁸⁹*\")\n",
    "    split1= seperator_21(Equation)\n",
    "    split= check1(split1)\n",
    "    split_form = Left_right_2_1(split)\n",
    "    lh= Theorem_coeff(split_form)\n",
    "    rh= Theorem_coeff_Right(split_form)\n",
    "    k=lemma\n",
    "    if lh != 0:\n",
    "        lhs =np.array(lh)\n",
    "    else:\n",
    "        lhs= np.array([0,0,0]).reshape(1,3)\n",
    "    if rh != 0:\n",
    "        rhs= np.array(rh)\n",
    "    else:\n",
    "        rhs= np.array([0,0,0,0]).reshape(1,4)\n",
    "    g=set()\n",
    "    G=set()\n",
    "    cons=set()\n",
    "    addi=set()\n",
    "    l_0 = 0\n",
    "    l_1 = 0\n",
    "    l_2 = 0\n",
    "    l_3 = 0\n",
    "    p_0=0\n",
    "    p_1=0\n",
    "    p_2=set()\n",
    "    n_0=0\n",
    "    if lh !=0:\n",
    "        for i in range(lhs.shape[0]):\n",
    "            l_0= l_0 + lhs[i][0]*(lhs[i][1]+ lhs[i][2])\n",
    "        if l_0 == 0:\n",
    "            for i in range(lhs.shape[0]):\n",
    "                l_1= l_1 + lhs[i][0]\n",
    "                l_2 = l_2 + lhs[i][0]*lhs[i][1]\n",
    "                l_3 = l_3 + lhs[i][0]*lhs[i][2]\n",
    "            if l_1 == 0:\n",
    "                G.add((\"a%d\" % (0)).translate(sub))\n",
    "                cons.add((\"a%d\" % (0)).translate(sub))\n",
    "            if l_2 == l_3 == 0:\n",
    "                G.add((\"A%d\" % 1).translate(sub) + '(x)')\n",
    "                addi.add((\"A%d\" % 1).translate(sub) + '(x)')\n",
    "    if lh != 0:\n",
    "        for i in range(lhs.shape[0]):\n",
    "                n_0= n_0 + lhs[i][0]\n",
    "                if n_0 == 0:\n",
    "                    G.add((\"a%d\" % (0)).translate(sub))\n",
    "                    cons.add((\"a%d\" % (0)).translate(sub))\n",
    "                       \n",
    "    \n",
    "    if k > 0 and  lh != 0:\n",
    "        for i in range(lhs.shape[0]):\n",
    "            p_0= p_0 + lhs[i][0]*((lhs[i][1]+ lhs[i][2])**(k+1))\n",
    "        if p_0 ==0:\n",
    "            for j in range(1,k+1):\n",
    "                for p in range(j+2):\n",
    "                    for i in range(lhs.shape[0]):\n",
    "                        p_1= p_1 + (comb(j+1, p, exact=True))*lhs[i][0]*(lhs[i][1]**(p))*(lhs[i][2]**(j+1-p))\n",
    "                    p_2.add(p_1)\n",
    "                    p_1=0\n",
    "                if 0 in p_2 and len(p_2)==1:\n",
    "                    G.add((\"A*%d\" % (j+1) ).translate(sub).translate(sup) + '(x)')\n",
    "                    addi.add((\"A*%d\" % (j+1) ).translate(sub).translate(sup) + '(x)')\n",
    "    if rh!=0 and lh!=0:\n",
    "        for j in range(k+1):\n",
    "            if j==0:\n",
    "                v = var('r%d' % j)\n",
    "                p=0\n",
    "                b=0\n",
    "                c=0\n",
    "                d=0\n",
    "                for i in range(lhs.shape[0]):\n",
    "                    p = p + lhs[i][0]* lhs[i][1]\n",
    "                for i in range(rhs.shape[0]):\n",
    "                    b = b + rhs[i][0]\n",
    "                for i in range(lhs.shape[0]):\n",
    "                    c = c + lhs[i][0]* lhs[i][2]\n",
    "                for i in range(rhs.shape[0]):\n",
    "                    d = d + rhs[i][1]\n",
    "                if len(solve([v*p == b, v*c ==d],v)) !=0:\n",
    "                    for m in solve([v*p ==b,v*c == d],v):\n",
    "                        tt=m[0].rhs()\n",
    "                        if tt==1:\n",
    "                            g.add((\"a%d\" % (j+1)).translate(sub))\n",
    "                            G.add((\"a%d\" % (j+1)).translate(sub) +(\"x%d\" % (j+1)).translate(sup))\n",
    "                            cons.add((\"a%d\" % (j+1)).translate(sub))\n",
    "                        elif tt== -1:\n",
    "                            g.add((\"a%d\" % (j+1)).translate(sub))\n",
    "                            G.add(str(\"-\") + (\"a%d\" % (j+1)).translate(sub) +(\"x%d\" % (j+1)).translate(sup))\n",
    "                            cons.add((\"a%d\" % (j+1)).translate(sub))\n",
    "                        elif tt != 0:\n",
    "                            g.add((\"a%d\" % (j+1)).translate(sub))\n",
    "                            G.add( (str(tt)) +(\"a%d\" % (j+1)).translate(sub) +(\"x%d\" % (j+1)).translate(sup))\n",
    "                            cons.add((\"a%d\" % (j+1)).translate(sub))\n",
    "\n",
    "            elif j>0:\n",
    "                v = var('r%d' % j)\n",
    "                p=0\n",
    "                b=0\n",
    "                c=0\n",
    "                d=0\n",
    "                list_=[]\n",
    "                for i in range(lhs.shape[0]):\n",
    "                    p= p+ lhs[i][0]*(lhs[i][1]**(j+1))\n",
    "                for i in range(rhs.shape[0]):\n",
    "                    b = b + rhs[i][0] * (rhs[i][2]**j)\n",
    "                list_.append(v*p == b)\n",
    "                for i in range(lhs.shape[0]):\n",
    "                    c= c+ lhs[i][0]*(lhs[i][2]**(j+1))\n",
    "                for i in range(rhs.shape[0]):\n",
    "                    d = d + rhs[i][1] * (rhs[i][3]**j)\n",
    "                list_.append(v*c == d)\n",
    "                for q in range(1,j+1):\n",
    "                    q1=0\n",
    "                    q2=0\n",
    "                    q21=0\n",
    "                    q22=0\n",
    "                    for i in range(lhs.shape[0]):\n",
    "                        q1 = q1 + comb(j+1, q, exact=True)*lhs[i][0]*(lhs[i][1]**q)*(lhs[i][2]**(j+1-q))\n",
    "                    for i in range(rhs.shape[0]):\n",
    "                        q2 = q2+ (comb(j, q, exact=True)*rhs[i][1]*(rhs[i][2]**q)*(rhs[i][3]**(j-q))) + (comb(j, q-1, exact=True) * rhs[i][0]*(rhs[i][2]**(q-1))*(rhs[i][3]**(j+1-q)))\n",
    "                        q21= q21 + (rhs[i][1]*(rhs[i][2]**q)*(rhs[i][3]**(j-q)))\n",
    "                        q22= q22 +   (rhs[i][0]*(rhs[i][2]**(q-1))*(rhs[i][3]**(j+1-q)))\n",
    "                    list_.append(v*q1==q2)\n",
    "                if len(solve(list_,v)) !=0:\n",
    "                    for m in solve(list_,v):\n",
    "                        tt= m[0].rhs()\n",
    "                        if q21 == q22 and tt == 1 :\n",
    "                            g.add((\"B%d\" % j).translate(sub) + '(x)')\n",
    "                            G.add( (str(x)) + (\"B%d\" % j).translate(sub) + '(x)')\n",
    "                            addi.add((\"B%d\" % j).translate(sub) + '(x)')\n",
    "                        elif q21 == q22 and tt == -1 :\n",
    "                            g.add((\"B%d\" % j).translate(sub) + '(x)')\n",
    "                            G.add(str(\"-\") + (str(x)) + (\"B%d\" % j).translate(sub) + '(x)')\n",
    "                            addi.add((\"B%d\" % j).translate(sub) + '(x)')\n",
    "                        elif q21 == q22 and tt != 1 and tt != 0 :\n",
    "                            g.add((\"B%d\" % j).translate(sub) + '(x)')\n",
    "                            G.add(str(tt) + (str(x)) + (\"B%d\" % j).translate(sub) + '(x)')\n",
    "                            addi.add((\"B%d\" % j).translate(sub) + '(x)')\n",
    "                        elif q21 != q22 and tt != 1 and tt != 0:\n",
    "                            g.add((\"a%d\" % (j+1)).translate(sub) + (\"x%d\" % (j)).translate(sup))\n",
    "                            G.add((str(tt)) + (\"a%d\" % (j+1)).translate(sub) + (\"x%d\" % (j+1)).translate(sup))\n",
    "                            cons.add((\"a%d\" % (j+1)).translate(sub))\n",
    "                        elif q21 != q22 and tt == 1:\n",
    "                            g.add((\"a%d\" % (j+1)).translate(sub) + (\"x%d\" % (j)).translate(sup))\n",
    "                            G.add( (\"a%d\" % (j+1)).translate(sub) + (\"x%d\" % (j+1)).translate(sup))\n",
    "                            cons.add((\"a%d\" % (j+1)).translate(sub))\n",
    "                        elif q21 != q22 and tt == -1:\n",
    "                            g.add((\"a%d\" % (j+1)).translate(sub) + (\"x%d\" % (j)).translate(sup))\n",
    "                            G.add( str(\"-\") + (\"a%d\" % (j+1)).translate(sub) + (\"x%d\" % (j+1)).translate(sup))\n",
    "                            cons.add((\"a%d\" % (j+1)).translate(sub))\n",
    "\n",
    "\n",
    "    if len(g) !=0 :\n",
    "        print('f(x) =', ' + '.join(g))\n",
    "    else:\n",
    "        print('f(x) = 0')\n",
    "    if len(G) !=0 :\n",
    "        print('F(x) =',' + '.join(G))\n",
    "    else:\n",
    "        print('F(x) = 0')\n",
    "    if len(cons) == 1 :\n",
    "        print('where ',','.join(cons),'is a real number.')\n",
    "    elif len(cons) > 1 :\n",
    "        print('where ',','.join(cons),'are real numbers.')\n",
    "    if len(addi) == 1 :\n",
    "        print( ','.join(addi),'is an abitrary additive function.')\n",
    "    elif len(addi) > 1 :\n",
    "        print(','.join(addi),'are abitrary additive functions.')\n",
    "        "
   ]
  },
  {
   "cell_type": "code",
   "execution_count": 18,
   "metadata": {},
   "outputs": [],
   "source": [
    "def PSFE(Equation):\n",
    "    start_time = time.time()\n",
    "    k = Sablik_Lemma(Equation) \n",
    "    if k == \"\":\n",
    "        print('f(x) = 0')\n",
    "        print('F(x) = 0') \n",
    "    else:\n",
    "        Theorem_1_3_Proposition_1_4_1_5_Remark_1_2_1_3(Equation,k)\n",
    "    print(\"- %s seconds -\" % round(time.time() - start_time, 2))\n",
    "    "
   ]
  },
  {
   "cell_type": "markdown",
   "metadata": {},
   "source": [
    "**Example 2.1:** Assume that functions $(F,f) : \\mathbb{R} → \\mathbb{R}$ satisfy the functional equation\n",
    "<br> \n",
    "\n",
    "$$F(x+y) - F(x) - F(y) = xf(y) + yf(x)$$\n",
    "for all $x,y \\in \\mathbb{R}.$"
   ]
  },
  {
   "cell_type": "code",
   "execution_count": 38,
   "metadata": {},
   "outputs": [
    {
     "name": "stdout",
     "output_type": "stream",
     "text": [
      "By Sablik Lemma f has degree at most 2\n",
      "f(x) = B₁(x) + a₃x²\n",
      "F(x) = xB₁(x) + A₁(x) + 1/3a₃x³\n",
      "where  a₃ is a real number.\n",
      "B₁(x),A₁(x) are abitrary additive functions.\n",
      "- 0.04 seconds -\n"
     ]
    }
   ],
   "source": [
    "PSFE(F(x+y)-F(x)-F(y)-x*f(y)-y*f(x))"
   ]
  },
  {
   "cell_type": "markdown",
   "metadata": {},
   "source": [
    "**Example 2.2a:** Assume that functions $(F,f) : \\mathbb{R} → \\mathbb{R}$ satisfy the functional equation\n",
    "<br> \n",
    "\n",
    "$$8\\left[F(y) -F(x)\\right] = \n",
    "(y-x)\\left[f(x) + 3f\\left(\\tfrac{x+2y}{3}\\right) + 3f\\left(\\tfrac{2x+y}{3}\\right) +f(y)\\right] $$\n",
    "for all $x,y \\in \\mathbb{R}.$"
   ]
  },
  {
   "cell_type": "code",
   "execution_count": 39,
   "metadata": {},
   "outputs": [
    {
     "name": "stdout",
     "output_type": "stream",
     "text": [
      "By Sablik Lemma f has degree at most 5\n",
      "f(x) = a₂x¹ + a₄x³ + a₃x² + a₁\n",
      "F(x) = 1/3a₃x³ + 1/2a₂x² + a₀ + 1/4a₄x⁴ + a₁x¹\n",
      "where  a₂,a₃,a₄,a₀,a₁ are real numbers.\n",
      "- 0.13 seconds -\n"
     ]
    }
   ],
   "source": [
    "PSFE(8*(F(y)-F(x)) - (y-x)*(f(x) + 3*f((x+2*y)*Rational(1/3))  + 3*f((2*x+y)*Rational(1/3)) +f(y)))"
   ]
  },
  {
   "cell_type": "markdown",
   "metadata": {},
   "source": [
    "**Example 2.2b:** Assume that functions $(F,f) : \\mathbb{R} → \\mathbb{R}$ satisfy the functional equation\n",
    "<br> \n",
    "\n",
    "$$F(y) - F(x) = (y-x)\\left[\\frac{1}{6}f(x) + \\frac{2}{3}f\\left(\\frac{x+y}{2}\\right) + \\frac{1}{6}f(y)\\right]$$\n",
    "for all $x,y \\in \\mathbb{R}.$"
   ]
  },
  {
   "cell_type": "code",
   "execution_count": 40,
   "metadata": {},
   "outputs": [
    {
     "name": "stdout",
     "output_type": "stream",
     "text": [
      "By Sablik Lemma f has degree at most 3\n",
      "f(x) = a₂x¹ + a₄x³ + a₃x² + a₁\n",
      "F(x) = 1/3a₃x³ + 1/2a₂x² + a₀ + 1/4a₄x⁴ + a₁x¹\n",
      "where  a₂,a₃,a₄,a₀,a₁ are real numbers.\n",
      "- 0.06 seconds -\n"
     ]
    }
   ],
   "source": [
    "PSFE(F(y) - F(x)- (y-x)*( Rational(1/6)*f(x) + Rational(2/3)*f((x+y)*Rational(1/2)) +  Rational(1/6)*f(y)))"
   ]
  },
  {
   "cell_type": "markdown",
   "metadata": {},
   "source": [
    "**Example 2.3:** Assume that functions $(F,f) : \\mathbb{R} → \\mathbb{R}$ satisfy the functional equation\n",
    "<br> \n",
    "\n",
    "$$F(y) - F(x) = (y-x)\\left[\\tfrac{1}{4}f(x) + \\tfrac{3}{4}f\\left(\\tfrac{1}{3}x + \\tfrac{2}{3}y\\right)\\right]$$\n",
    "for all $x,y \\in \\mathbb{R}.$"
   ]
  },
  {
   "cell_type": "code",
   "execution_count": 41,
   "metadata": {},
   "outputs": [
    {
     "name": "stdout",
     "output_type": "stream",
     "text": [
      "By Sablik Lemma f has degree at most 2\n",
      "f(x) = a₂x¹ + a₃x² + a₁\n",
      "F(x) = a₁x¹ + 1/2a₂x² + a₀ + 1/3a₃x³\n",
      "where  a₃,a₂,a₀,a₁ are real numbers.\n",
      "- 0.05 seconds -\n"
     ]
    }
   ],
   "source": [
    "PSFE(F(y) -F(x) - (y-x)*(Rational(1/4)*f(x) + Rational(3/4)*f(Rational(1/3)*x + Rational(2/3)*y)))"
   ]
  },
  {
   "cell_type": "markdown",
   "metadata": {},
   "source": [
    "**Example 2.4a:** Assume that functions $(F,f) : \\mathbb{R} → \\mathbb{R}$ satisfy the functional equation\n",
    "<br> \n",
    "\n",
    "$$\\tfrac{F(y) - F(x)}{y - x} = f(x + y)$$\n",
    "for all $x,y \\in \\mathbb{R}.$"
   ]
  },
  {
   "cell_type": "code",
   "execution_count": 23,
   "metadata": {},
   "outputs": [
    {
     "name": "stdout",
     "output_type": "stream",
     "text": [
      "By Sablik Lemma F has degree at most 2\n",
      "f(x) = a₂x¹ + a₁\n",
      "F(x) = a₁x¹ + a₀ + a₂x²\n",
      "where  a₂,a₀,a₁ are real numbers.\n",
      "- 0.03 seconds -\n"
     ]
    }
   ],
   "source": [
    "PSFE(F(y)-F(x)-((y-x)*f(x+y)))"
   ]
  },
  {
   "cell_type": "markdown",
   "metadata": {},
   "source": [
    "**Example 2.4b:** Assume that functions $(F,f) : \\mathbb{R} → \\mathbb{R}$ satisfy the functional equation\n",
    "<br> \n",
    "\n",
    "$$\\tfrac{F(x) - F(y)}{x -y} = f\\left(\\tfrac{x +y}{2}\\right)$$\n",
    "for all $x,y \\in \\mathbb{R}.$"
   ]
  },
  {
   "cell_type": "code",
   "execution_count": 24,
   "metadata": {},
   "outputs": [
    {
     "name": "stdout",
     "output_type": "stream",
     "text": [
      "By Sablik Lemma F has degree at most 2\n",
      "f(x) = a₂x¹ + a₁\n",
      "F(x) = a₁x¹ + 1/2a₂x² + a₀\n",
      "where  a₂,a₀,a₁ are real numbers.\n",
      "- 0.03 seconds -\n"
     ]
    }
   ],
   "source": [
    "PSFE(F(x)-F(y)-((x-y)*f((x+y)*Rational(1/2))))"
   ]
  },
  {
   "cell_type": "markdown",
   "metadata": {},
   "source": [
    "**Example 2.5:** Assume that functions $(F,f) : \\mathbb{R} → \\mathbb{R}$ satisfy the functional equation\n",
    "<br> \n",
    "\n",
    "$$2F(y) - 2F(x) = (y -x)\\left[f\\left(\\tfrac{x+y}{2}\\right) + \\tfrac{f(x) + f(y)}{2}\\right]$$\n",
    "for all $x,y \\in \\mathbb{R}.$"
   ]
  },
  {
   "cell_type": "code",
   "execution_count": 42,
   "metadata": {},
   "outputs": [
    {
     "name": "stdout",
     "output_type": "stream",
     "text": [
      "By Sablik Lemma f has degree at most 3\n",
      "f(x) = a₂x¹ + a₁\n",
      "F(x) = a₁x¹ + 1/2a₂x² + a₀\n",
      "where  a₂,a₀,a₁ are real numbers.\n",
      "- 0.08 seconds -\n"
     ]
    }
   ],
   "source": [
    "PSFE( 2*(F(y) -F(x)) - (y-x)*(f((x+y)*Rational(1/2)) + ((f(x) + f(y))*Rational(1/2))))"
   ]
  },
  {
   "cell_type": "markdown",
   "metadata": {},
   "source": [
    "**Example 2.6:** Assume that functions $(F,f) : \\mathbb{R} → \\mathbb{R}$ satisfy the functional equation\n",
    "<br> \n",
    "\n",
    "$$F(x) - 4F\\left(\\frac{x+y}{2}\\right) +F(y) = xf(y) + yf(x)$$\n",
    "for all $x,y \\in \\mathbb{R}.$"
   ]
  },
  {
   "cell_type": "code",
   "execution_count": 26,
   "metadata": {},
   "outputs": [
    {
     "name": "stdout",
     "output_type": "stream",
     "text": [
      "By Sablik Lemma f has degree at most 2\n",
      "f(x) = B₁(x) + a₁\n",
      "F(x) = -a₁x¹ + -xB₁(x)\n",
      "where  a₁ is a real number.\n",
      "B₁(x) is an abitrary additive function.\n",
      "- 0.05 seconds -\n"
     ]
    }
   ],
   "source": [
    "PSFE(F(x) - 4*F((x+y)*Rational(1/2)) + F(y) -x*f(y) - y*f(x))"
   ]
  },
  {
   "cell_type": "markdown",
   "metadata": {},
   "source": [
    "**Example 2.7:** Assume that functions $(F,f) : \\mathbb{R} → \\mathbb{R}$ satisfy the functional equation\n",
    "<br> \n",
    "\n",
    "$$F(x) - 8F\\left(\\frac{x+y}{2}\\right) +F(y) = xf(y) + yf(x)$$\n",
    "for all $x,y \\in \\mathbb{R}.$"
   ]
  },
  {
   "cell_type": "code",
   "execution_count": 27,
   "metadata": {},
   "outputs": [
    {
     "name": "stdout",
     "output_type": "stream",
     "text": [
      "By Sablik Lemma f has degree at most 2\n",
      "f(x) = a₃x² + a₁\n",
      "F(x) = -1/3a₁x¹ + -1/3a₃x³\n",
      "where  a₃,a₁ are real numbers.\n",
      "- 0.04 seconds -\n"
     ]
    }
   ],
   "source": [
    "PSFE(F(x) - 8*F((x+y)*Rational(1/2)) + F(y) -x*f(y) - y*f(x))"
   ]
  },
  {
   "cell_type": "markdown",
   "metadata": {},
   "source": [
    "**Example 2.8:** Assume that functions $(F,f) : \\mathbb{R} → \\mathbb{R}$ satisfy the functional equation\n",
    "<br> \n",
    "\n",
    "$$F(x+y) = F(x) + F(y) $$\n",
    "for all $x,y \\in \\mathbb{R}.$"
   ]
  },
  {
   "cell_type": "code",
   "execution_count": 28,
   "metadata": {},
   "outputs": [
    {
     "name": "stdout",
     "output_type": "stream",
     "text": [
      "By Sablik Lemma F has degree at most 1\n",
      "f(x) = 0\n",
      "F(x) = A₁(x)\n",
      "A₁(x) is an abitrary additive function.\n",
      "- 0.0 seconds -\n"
     ]
    }
   ],
   "source": [
    "PSFE(F(x+y)-F(x)-F(y))"
   ]
  },
  {
   "cell_type": "markdown",
   "metadata": {},
   "source": [
    "**Example 2.9:** Assume that functions $(F,f) : \\mathbb{R} → \\mathbb{R}$ satisfy the functional equation\n",
    "<br> \n",
    "\n",
    "$$F\\left(\\frac{x+y}{2}\\right) = \\frac{1}{2}\\left[F(x) + F(y)\\right] $$\n",
    "for all $x,y \\in \\mathbb{R}.$"
   ]
  },
  {
   "cell_type": "code",
   "execution_count": 29,
   "metadata": {},
   "outputs": [
    {
     "name": "stdout",
     "output_type": "stream",
     "text": [
      "By Sablik Lemma F has degree at most 1\n",
      "f(x) = 0\n",
      "F(x) = A₁(x) + a₀\n",
      "where  a₀ is a real number.\n",
      "A₁(x) is an abitrary additive function.\n",
      "- 0.01 seconds -\n"
     ]
    }
   ],
   "source": [
    "PSFE(F((x+y)*Rational(1/2))- Rational(1/2)*(F(x)+ F(y)))"
   ]
  },
  {
   "cell_type": "markdown",
   "metadata": {},
   "source": [
    "**Example 2.10:** Assume that functions $(F,f) : \\mathbb{R} → \\mathbb{R}$ satisfy the functional equation\n",
    "<br> \n",
    "\n",
    " $$F(x+y) + F(x-y) = 2F(x) + F(y) + F(-y) $$\n",
    "for all $x,y \\in \\mathbb{R}.$"
   ]
  },
  {
   "cell_type": "code",
   "execution_count": 30,
   "metadata": {},
   "outputs": [
    {
     "name": "stdout",
     "output_type": "stream",
     "text": [
      "By Sablik Lemma F has degree at most 3\n",
      "f(x) = 0\n",
      "F(x) = A₁(x)\n",
      "A₁(x) is an abitrary additive function.\n",
      "- 0.02 seconds -\n"
     ]
    }
   ],
   "source": [
    "PSFE(F(x+y) + F(x-y) -2*F(x) -F(y) - F(-y))"
   ]
  },
  {
   "cell_type": "markdown",
   "metadata": {},
   "source": [
    "**Example 2.11:** Assume that functions $(F,f) : \\mathbb{R} → \\mathbb{R}$ satisfy the functional equation\n",
    "<br> \n",
    "\n",
    "$$F(x+y) - F(x) - F(y) = xf(3y) + yf(3x)$$\n",
    "\n",
    "for all $x,y \\in \\mathbb{R}.$"
   ]
  },
  {
   "cell_type": "code",
   "execution_count": 43,
   "metadata": {},
   "outputs": [
    {
     "name": "stdout",
     "output_type": "stream",
     "text": [
      "By Sablik Lemma f has degree at most 3\n",
      "f(x) = B₁(x) + a₃x²\n",
      "F(x) = 3a₃x³ + A₁(x) + 3xB₁(x)\n",
      "where  a₃ is a real number.\n",
      "B₁(x),A₁(x) are abitrary additive functions.\n",
      "- 0.06 seconds -\n"
     ]
    }
   ],
   "source": [
    "PSFE(F(x+y)-F(x)-F(y)-x*f(3*y) - y*f(3*x))"
   ]
  },
  {
   "cell_type": "markdown",
   "metadata": {},
   "source": [
    "**Example 2.12:** Assume that functions $(F,f) : \\mathbb{R} → \\mathbb{R}$ satisfy the functional equation\n",
    "<br> \n",
    "\n",
    "$$F(x+y) - F(x) - F(y) = xf(y)$$\n",
    "\n",
    "for all $x,y \\in \\mathbb{R}.$"
   ]
  },
  {
   "cell_type": "code",
   "execution_count": 32,
   "metadata": {},
   "outputs": [
    {
     "name": "stdout",
     "output_type": "stream",
     "text": [
      "By Sablik Lemma F has degree at most 2\n",
      "f(x) = a₂x¹\n",
      "F(x) = 1/2a₂x² + A₁(x)\n",
      "where  a₂ is a real number.\n",
      "A₁(x) is an abitrary additive function.\n",
      "- 0.04 seconds -\n"
     ]
    }
   ],
   "source": [
    "PSFE(F(x+y)-F(x)-F(y)-x*f(y))"
   ]
  },
  {
   "cell_type": "markdown",
   "metadata": {},
   "source": [
    "**Example 2.13:** Assume that functions $(F,f) : \\mathbb{R} → \\mathbb{R}$ satisfy the functional equation\n",
    "<br> \n",
    "\n",
    "$$F(x+y) - F(x) - F(y) = 3xf(2y) - 4yf(3x) $$\n",
    "\n",
    "for all $x,y \\in \\mathbb{R}.$"
   ]
  },
  {
   "cell_type": "code",
   "execution_count": 44,
   "metadata": {},
   "outputs": [
    {
     "name": "stdout",
     "output_type": "stream",
     "text": [
      "By Sablik Lemma f has degree at most 3\n",
      "f(x) = a₂x¹\n",
      "F(x) = -3a₂x² + A₁(x)\n",
      "where  a₂ is a real number.\n",
      "A₁(x) is an abitrary additive function.\n",
      "- 0.06 seconds -\n"
     ]
    }
   ],
   "source": [
    "PSFE(F(x+y) -F(x)-F(y) -3*x*f(2*y) + 4*y*f(3*x))"
   ]
  },
  {
   "cell_type": "markdown",
   "metadata": {},
   "source": [
    "**Example 2.14:** Assume that functions $(F,f) : \\mathbb{R} → \\mathbb{R}$ satisfy the functional equation\n",
    "<br> \n",
    "\n",
    "$$F(x+y) - F(x) - F(y) = xf(3y) + yf(3x) +xf(y) + yf(x) + xf(2y) + yf(2x) $$\n",
    "\n",
    "for all $x,y \\in \\mathbb{R}.$"
   ]
  },
  {
   "cell_type": "code",
   "execution_count": 45,
   "metadata": {},
   "outputs": [
    {
     "name": "stdout",
     "output_type": "stream",
     "text": [
      "By Sablik Lemma f has degree at most 6\n",
      "f(x) = B₁(x) + a₃x²\n",
      "F(x) = 14/3a₃x³ + 6xB₁(x) + A₁(x)\n",
      "where  a₃ is a real number.\n",
      "B₁(x),A₁(x) are abitrary additive functions.\n",
      "- 0.14 seconds -\n"
     ]
    }
   ],
   "source": [
    "PSFE(F(x+y) -F(x)-F(y) -x*f(3*y) - y*f(3*x)-x*f(y)-y*f(x)-y*f(2*x)-x*f(2*y))"
   ]
  },
  {
   "cell_type": "markdown",
   "metadata": {},
   "source": [
    "**Example 2.15:** Assume that functions $(F,f) : \\mathbb{R} → \\mathbb{R}$ satisfy the functional equation\n",
    "<br> \n",
    "\n",
    "$$F(x+y) + F(x-y) = 2F(x) + 2F(y) $$\n",
    "\n",
    "for all $x,y \\in \\mathbb{R}.$"
   ]
  },
  {
   "cell_type": "code",
   "execution_count": 35,
   "metadata": {},
   "outputs": [
    {
     "name": "stdout",
     "output_type": "stream",
     "text": [
      "By Sablik Lemma F has degree at most 2\n",
      "f(x) = 0\n",
      "F(x) = A*₂(x)\n",
      "A*₂(x) is an abitrary additive function.\n",
      "- 0.01 seconds -\n"
     ]
    }
   ],
   "source": [
    "PSFE(F(x+y) + F(x-y) - 2*F(x) -2*F(y))"
   ]
  },
  {
   "cell_type": "markdown",
   "metadata": {},
   "source": [
    "**Example 2.16:** Assume that functions $(F,f) : \\mathbb{R} → \\mathbb{R}$ satisfy the functional equation\n",
    "<br> \n",
    "\n",
    "$$F(x+6y) - 6F(x+5y) + 15F(x+4y) - 20F(x+3y) + 15F(x+2y) - 6F(x+y) + F(x) =0$$\n",
    "\n",
    "for all $x,y \\in \\mathbb{R}.$"
   ]
  },
  {
   "cell_type": "code",
   "execution_count": 36,
   "metadata": {},
   "outputs": [
    {
     "name": "stdout",
     "output_type": "stream",
     "text": [
      "By Sablik Lemma F has degree at most 5\n",
      "f(x) = 0\n",
      "F(x) = A*₄(x) + A₁(x) + A*₅(x) + a₀ + A*₃(x) + A*₂(x)\n",
      "where  a₀ is a real number.\n",
      "A*₄(x),A₁(x),A*₅(x),A*₃(x),A*₂(x) are abitrary additive functions.\n",
      "- 0.02 seconds -\n"
     ]
    }
   ],
   "source": [
    "PSFE(F(x+6*y) - 6*F(x+5*y) + 15*F(x+4*y) - 20*F(x+3*y) + 15*F(x+2*y) - 6*F(x+y) + F(x))"
   ]
  },
  {
   "cell_type": "markdown",
   "metadata": {},
   "source": [
    "**Example 2.17:** Assume that functions $(F,f) : \\mathbb{R} → \\mathbb{R}$ satisfy the functional equation\n",
    "<br> \n",
    "\n",
    "$$F(y) - F(x)  = \\frac{y-x}{6}\\left[f(x) +2f\\left(\\frac{2x+y}{3}\\right) + 2f\\left(\\frac{x+2y}{3}\\right) +f(y)\\right]$$\n",
    "\n",
    "for all $x,y \\in \\mathbb{R}.$"
   ]
  },
  {
   "cell_type": "code",
   "execution_count": 47,
   "metadata": {},
   "outputs": [
    {
     "name": "stdout",
     "output_type": "stream",
     "text": [
      "By Sablik Lemma f has degree at most 5\n",
      "f(x) = a₂x¹ + a₁\n",
      "F(x) = a₁x¹ + 1/2a₂x² + a₀\n",
      "where  a₂,a₀,a₁ are real numbers.\n",
      "- 0.15 seconds -\n"
     ]
    }
   ],
   "source": [
    "PSFE(F(y) - F(x) - (y-x)*Rational(1/6)*(f(x) + 2*f((2*x + y)*Rational(1/3))  + 2*f((x + 2*y)*Rational(1/3)) + f(y)))"
   ]
  }
 ],
 "metadata": {
  "kernelspec": {
   "display_name": "Python 3",
   "language": "python",
   "name": "python3"
  },
  "language_info": {
   "codemirror_mode": {
    "name": "ipython",
    "version": 3
   },
   "file_extension": ".py",
   "mimetype": "text/x-python",
   "name": "python",
   "nbconvert_exporter": "python",
   "pygments_lexer": "ipython3",
   "version": "3.7.7"
  }
 },
 "nbformat": 4,
 "nbformat_minor": 4
}
